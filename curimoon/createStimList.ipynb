{
 "cells": [
  {
   "cell_type": "code",
   "execution_count": 2,
   "metadata": {},
   "outputs": [],
   "source": [
    "import os, glob, json"
   ]
  },
  {
   "cell_type": "code",
   "execution_count": 36,
   "metadata": {},
   "outputs": [
    {
     "name": "stdout",
     "output_type": "stream",
     "text": [
      "[('img/tt/003tt.jpg', 'img/gs/003gs.jpg'), ('img/tt/012tt.jpg', 'img/gs/012gs.jpg'), ('img/tt/013tt.jpg', 'img/gs/013gs.jpg'), ('img/tt/01tt.jpg', 'img/gs/01gs.jpg'), ('img/tt/021tt.jpg', 'img/gs/021gs.jpg'), ('img/tt/039tt.jpg', 'img/gs/039gs.jpg'), ('img/tt/03tt.jpg', 'img/gs/03gs.jpg'), ('img/tt/045tt.jpg', 'img/gs/045gs.jpg'), ('img/tt/04tt.jpg', 'img/gs/04gs.jpg'), ('img/tt/055tt.jpg', 'img/gs/055gs.jpg'), ('img/tt/062tt.jpg', 'img/gs/062gs.jpg'), ('img/tt/064tt.jpg', 'img/gs/064gs.jpg'), ('img/tt/065tt.jpg', 'img/gs/065gs.jpg'), ('img/tt/06tt.jpg', 'img/gs/06gs.jpg'), ('img/tt/087tt.jpg', 'img/gs/087gs.jpg'), ('img/tt/107tt.jpg', 'img/gs/107gs.jpg'), ('img/tt/10tt.jpg', 'img/gs/10gs.jpg'), ('img/tt/127tt.jpg', 'img/gs/127gs.jpg'), ('img/tt/129tt.jpg', 'img/gs/129gs.jpg'), ('img/tt/137tt.jpg', 'img/gs/137gs.jpg'), ('img/tt/148tt.jpg', 'img/gs/148gs.jpg'), ('img/tt/14tt.jpg', 'img/gs/14gs.jpg'), ('img/tt/184tt.jpg', 'img/gs/184gs.jpg'), ('img/tt/191tt.jpg', 'img/gs/191gs.jpg'), ('img/tt/192tt.jpg', 'img/gs/192gs.jpg'), ('img/tt/243tt.jpg', 'img/gs/243gs.jpg'), ('img/tt/25tt.jpg', 'img/gs/25gs.jpg'), ('img/tt/273tt.jpg', 'img/gs/273gs.jpg'), ('img/tt/27tt.jpg', 'img/gs/27gs.jpg'), ('img/tt/292tt.jpg', 'img/gs/292gs.jpg'), ('img/tt/298tt.jpg', 'img/gs/298gs.jpg'), ('img/tt/350tt.jpg', 'img/gs/350gs.jpg'), ('img/tt/359tt.jpg', 'img/gs/359gs.jpg'), ('img/tt/367tt.jpg', 'img/gs/367gs.jpg'), ('img/tt/378tt.jpg', 'img/gs/378gs.jpg'), ('img/tt/399tt.jpg', 'img/gs/399gs.jpg'), ('img/tt/400tt.jpg', 'img/gs/400gs.jpg'), ('img/tt/404tt.jpg', 'img/gs/404gs.jpg'), ('img/tt/429tt.jpg', 'img/gs/429gs.jpg'), ('img/tt/447tt.jpg', 'img/gs/447gs.jpg'), ('img/tt/449tt.jpg', 'img/gs/449gs.jpg'), ('img/tt/469tt.jpg', 'img/gs/469gs.jpg'), ('img/tt/478tt.jpg', 'img/gs/478gs.jpg'), ('img/tt/487tt.jpg', 'img/gs/487gs.jpg'), ('img/tt/506tt.jpg', 'img/gs/506gs.jpg'), ('img/tt/525tt.jpg', 'img/gs/525gs.jpg'), ('img/tt/533tt.jpg', 'img/gs/533gs.jpg'), ('img/tt/549tt.jpg', 'img/gs/549gs.jpg'), ('img/tt/556tt.jpg', 'img/gs/556gs.jpg'), ('img/tt/558tt.jpg', 'img/gs/558gs.jpg'), ('img/tt/559tt.jpg', 'img/gs/559gs.jpg'), ('img/tt/560tt.jpg', 'img/gs/560gs.jpg'), ('img/tt/562tt.jpg', 'img/gs/562gs.jpg'), ('img/tt/573tt.jpg', 'img/gs/573gs.jpg'), ('img/tt/576tt.jpg', 'img/gs/576gs.jpg'), ('img/tt/582tt.jpg', 'img/gs/582gs.jpg'), ('img/tt/585tt.jpg', 'img/gs/585gs.jpg'), ('img/tt/593tt.jpg', 'img/gs/593gs.jpg'), ('img/tt/595tt.jpg', 'img/gs/595gs.jpg'), ('img/tt/608tt.jpg', 'img/gs/608gs.jpg'), ('img/tt/609tt.jpg', 'img/gs/609gs.jpg'), ('img/tt/623tt.jpg', 'img/gs/623gs.jpg'), ('img/tt/625tt.jpg', 'img/gs/625gs.jpg'), ('img/tt/627tt.jpg', 'img/gs/627gs.jpg'), ('img/tt/629tt.jpg', 'img/gs/629gs.jpg'), ('img/tt/643tt.jpg', 'img/gs/643gs.jpg'), ('img/tt/655tt.jpg', 'img/gs/655gs.jpg'), ('img/tt/661tt.jpg', 'img/gs/661gs.jpg'), ('img/tt/676tt.jpg', 'img/gs/676gs.jpg'), ('img/tt/683tt.jpg', 'img/gs/683gs.jpg'), ('img/tt/691tt.jpg', 'img/gs/691gs.jpg'), ('img/tt/721tt.jpg', 'img/gs/721gs.jpg'), ('img/tt/728tt.jpg', 'img/gs/728gs.jpg'), ('img/tt/729tt.jpg', 'img/gs/729gs.jpg'), ('img/tt/738tt.jpg', 'img/gs/738gs.jpg'), ('img/tt/745tt.jpg', 'img/gs/745gs.jpg'), ('img/tt/773tt.jpg', 'img/gs/773gs.jpg'), ('img/tt/781tt.jpg', 'img/gs/781gs.jpg'), ('img/tt/792tt.jpg', 'img/gs/792gs.jpg'), ('img/tt/801tt.jpg', 'img/gs/801gs.jpg'), ('img/tt/809tt.jpg', 'img/gs/809gs.jpg'), ('img/tt/812tt.jpg', 'img/gs/812gs.jpg'), ('img/tt/817tt.jpg', 'img/gs/817gs.jpg'), ('img/tt/823tt.jpg', 'img/gs/823gs.jpg'), ('img/tt/850tt.jpg', 'img/gs/850gs.jpg'), ('img/tt/851tt.jpg', 'img/gs/851gs.jpg'), ('img/tt/852tt.jpg', 'img/gs/852gs.jpg'), ('img/tt/853tt.jpg', 'img/gs/853gs.jpg'), ('img/tt/857tt.jpg', 'img/gs/857gs.jpg'), ('img/tt/858tt.jpg', 'img/gs/858gs.jpg'), ('img/tt/859tt.jpg', 'img/gs/859gs.jpg'), ('img/tt/862tt.jpg', 'img/gs/862gs.jpg'), ('img/tt/863tt.jpg', 'img/gs/863gs.jpg'), ('img/tt/864tt.jpg', 'img/gs/864gs.jpg'), ('img/tt/867tt.jpg', 'img/gs/867gs.jpg'), ('img/tt/868tt.jpg', 'img/gs/868gs.jpg'), ('img/tt/870tt.jpg', 'img/gs/870gs.jpg'), ('img/tt/871tt.jpg', 'img/gs/871gs.jpg'), ('img/tt/872tt.jpg', 'img/gs/872.jpg'), ('img/tt/873tt.jpg', 'img/gs/873gs.jpg'), ('img/tt/874tt.jpg', 'img/gs/874gs.jpg')]\n"
     ]
    }
   ],
   "source": [
    "# rename files to be consistent\n",
    "tt = glob.glob(os.path.join('img', 'tt', \"*.jpg\")) \n",
    "gs = glob.glob(os.path.join('img', 'gs', \"*.jpg\")) \n",
    "\n",
    "if len(tt) == len(gs): \n",
    "    couples = zip(sorted(tt),sorted(gs))\n",
    "else: print \"images don't match!\"\n",
    "\n",
    "print couples\n",
    "\n",
    "for i, couple in enumerate(couples):\n",
    "    os.rename(couple[0], 'img/tt' + \"/{0:0=3d}\".format(i+1) + 'tt' + \".jpg\")\n",
    "    os.rename(couple[1], 'img/gs' + \"/{0:0=3d}\".format(i+1) + 'gs' + \".jpg\")"
   ]
  },
  {
   "cell_type": "code",
   "execution_count": 4,
   "metadata": {},
   "outputs": [
    {
     "name": "stdout",
     "output_type": "stream",
     "text": [
      "452\n"
     ]
    }
   ],
   "source": [
    "#generate json list of filenames\n",
    "tt = glob.glob(os.path.join('img', 'tt', \"*.jpg\")) \n",
    "gs = glob.glob(os.path.join('img', 'gs', \"*.jpg\")) \n",
    "STIMS = []\n",
    "if len(tt) == len(gs): \n",
    "    \n",
    "    couples = zip(sorted(tt),sorted(gs))\n",
    "    \n",
    "    print len(couples)\n",
    "    for couple in couples:\n",
    "        if (int(''.join(filter(str.isdigit, couple[0]))) == int(''.join(filter(str.isdigit, couple[1])))):\n",
    "            STIMS.append({'mooney': couple[0], 'solution': couple[1]})\n",
    "        else: print couple, \": images don't correspond\"\n",
    "        \n",
    "    with open('stimset.json', 'w') as outfile:\n",
    "        json.dump(STIMS, outfile)\n",
    "        \n",
    "else: print \"images don't match!\"\n",
    "    "
   ]
  }
 ],
 "metadata": {
  "kernelspec": {
   "display_name": "Python 2",
   "language": "python",
   "name": "python2"
  },
  "language_info": {
   "codemirror_mode": {
    "name": "ipython",
    "version": 2
   },
   "file_extension": ".py",
   "mimetype": "text/x-python",
   "name": "python",
   "nbconvert_exporter": "python",
   "pygments_lexer": "ipython2",
   "version": "2.7.15rc1"
  }
 },
 "nbformat": 4,
 "nbformat_minor": 2
}
